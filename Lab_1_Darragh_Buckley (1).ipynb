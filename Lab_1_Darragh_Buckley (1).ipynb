{
  "nbformat": 4,
  "nbformat_minor": 0,
  "metadata": {
    "colab": {
      "provenance": [],
      "gpuType": "T4"
    },
    "kernelspec": {
      "name": "python3",
      "display_name": "Python 3"
    },
    "language_info": {
      "name": "python"
    },
    "accelerator": "GPU"
  },
  "cells": [
    {
      "cell_type": "code",
      "execution_count": null,
      "metadata": {
        "id": "ADq0kjF1gvsJ"
      },
      "outputs": [],
      "source": [
        "import torch\n",
        "import numpy as np\n",
        "import matplotlib.pyplot as plt"
      ]
    },
    {
      "cell_type": "code",
      "source": [
        "## creating a tensor of 4 rows and 3 columns consisting of ones\n",
        "x = torch.ones(4, 3)\n",
        "print(x)"
      ],
      "metadata": {
        "id": "mdrlduNbulsQ",
        "colab": {
          "base_uri": "https://localhost:8080/"
        },
        "outputId": "d89de9e2-b5f7-402e-c647-5fb13ba49a4c"
      },
      "execution_count": null,
      "outputs": [
        {
          "output_type": "stream",
          "name": "stdout",
          "text": [
            "tensor([[1., 1., 1.],\n",
            "        [1., 1., 1.],\n",
            "        [1., 1., 1.],\n",
            "        [1., 1., 1.]])\n"
          ]
        }
      ]
    },
    {
      "cell_type": "code",
      "source": [
        "## creating a tensor of 4 rows and 3 columns consisting of zeros\n",
        "x = torch.zeros(4, 3)\n",
        "print(x)"
      ],
      "metadata": {
        "id": "nt3H-ZB-vddC",
        "colab": {
          "base_uri": "https://localhost:8080/"
        },
        "outputId": "16162159-2c77-4489-a1b6-112b2d51f153"
      },
      "execution_count": null,
      "outputs": [
        {
          "output_type": "stream",
          "name": "stdout",
          "text": [
            "tensor([[0., 0., 0.],\n",
            "        [0., 0., 0.],\n",
            "        [0., 0., 0.],\n",
            "        [0., 0., 0.]])\n"
          ]
        }
      ]
    },
    {
      "cell_type": "code",
      "source": [
        "## We often set a specific value as random seed to increase the reproducibility\n",
        "torch.manual_seed(3)\n",
        "## generating a random tensor\n",
        "x = torch.rand(4, 3)\n",
        "print(x)"
      ],
      "metadata": {
        "id": "wKe4WflGw6qO",
        "colab": {
          "base_uri": "https://localhost:8080/"
        },
        "outputId": "25e5dd86-5d45-4ed0-e400-ae3741067a45"
      },
      "execution_count": null,
      "outputs": [
        {
          "output_type": "stream",
          "name": "stdout",
          "text": [
            "tensor([[0.0043, 0.1056, 0.2858],\n",
            "        [0.0270, 0.4716, 0.0601],\n",
            "        [0.7719, 0.7437, 0.5944],\n",
            "        [0.8879, 0.4510, 0.7995]])\n"
          ]
        }
      ]
    },
    {
      "cell_type": "code",
      "source": [
        "## generating a random tensor from normal distribution\n",
        "x = torch.randn(4, 3)\n",
        "print(x)"
      ],
      "metadata": {
        "id": "FqfEEzen0goA",
        "colab": {
          "base_uri": "https://localhost:8080/"
        },
        "outputId": "fdc1cd15-3e92-487f-9eeb-52bcac29e10f"
      },
      "execution_count": null,
      "outputs": [
        {
          "output_type": "stream",
          "name": "stdout",
          "text": [
            "tensor([[ 0.3375,  1.0111, -1.4352],\n",
            "        [ 0.9774,  0.5220,  1.2379],\n",
            "        [-0.8646,  0.2990,  0.4192],\n",
            "        [-0.0799,  0.9264,  0.8157]])\n"
          ]
        }
      ]
    },
    {
      "cell_type": "code",
      "source": [
        "## create a tensor with certain values\n",
        "x = torch.tensor([[1, 2, 3],\n",
        "                  [4, 5, 6],\n",
        "                  [7, 8, 9]])\n",
        "## get the third row (the index start with 0)\n",
        "print(x[2])\n",
        "## get the element in row 1, and col 2\n",
        "print(x[0][1]) # essentially (x[0])[1]\n",
        "print(x[0, 1])\n",
        "## get the value of one element tensor by using item()\n",
        "print(x[0][1].item())\n",
        "## access a range of elements\n",
        "print(x[0:3, 0:3]) # start index is 0, end index is 3\n",
        "                   # the range will include the start index\n",
        "                   # and exclude the end index"
      ],
      "metadata": {
        "id": "hCz8fF5C0uFg",
        "colab": {
          "base_uri": "https://localhost:8080/"
        },
        "outputId": "4756aeaf-2c6b-41ce-8c26-57e102a3edd0"
      },
      "execution_count": null,
      "outputs": [
        {
          "output_type": "stream",
          "name": "stdout",
          "text": [
            "tensor([7, 8, 9])\n",
            "tensor(2)\n",
            "tensor(2)\n",
            "2\n",
            "tensor([[1, 2, 3],\n",
            "        [4, 5, 6],\n",
            "        [7, 8, 9]])\n"
          ]
        }
      ]
    },
    {
      "cell_type": "code",
      "source": [
        "## create a tensor with certain values\n",
        "x = torch.tensor([[1, 2, 3],\n",
        "                  [4, 5, 6],\n",
        "                  [7, 8, 9]])\n",
        "## try to slicing commands\n",
        "print(x[:, 2]) # Every row, only the last column\n",
        "print(x[0, :]) # Every column in frist row\n",
        "y = x[:, 1] # take the elements in the second columns and create another tensor\n",
        "print(y)"
      ],
      "metadata": {
        "id": "FDkkyORL04sp",
        "colab": {
          "base_uri": "https://localhost:8080/"
        },
        "outputId": "d431e78f-5d4a-4ff4-d0ef-ba63754cfa22"
      },
      "execution_count": null,
      "outputs": [
        {
          "output_type": "stream",
          "name": "stdout",
          "text": [
            "tensor([3, 6, 9])\n",
            "tensor([1, 2, 3])\n",
            "tensor([2, 5, 8])\n"
          ]
        }
      ]
    },
    {
      "cell_type": "code",
      "source": [
        "## create a tensor with 3 rows and 2 columns\n",
        "x = torch.tensor([[1, 2],\n",
        "                  [3, 4],\n",
        "                  [5, 6]])\n",
        "## reshaping to 2 rows and 3 columns\n",
        "y = x.view(2, 3)\n",
        "print(y)"
      ],
      "metadata": {
        "id": "bvUKmdRI1mWD",
        "colab": {
          "base_uri": "https://localhost:8080/"
        },
        "outputId": "79f743c9-9f49-4b56-f226-7e0800349b19"
      },
      "execution_count": null,
      "outputs": [
        {
          "output_type": "stream",
          "name": "stdout",
          "text": [
            "tensor([[1, 2, 3],\n",
            "        [4, 5, 6]])\n"
          ]
        }
      ]
    },
    {
      "cell_type": "code",
      "source": [
        "## create a tensor with 3 rows and 2 columns\n",
        "x = torch.tensor([[1, 2],\n",
        "                  [3, 4],\n",
        "                  [5, 6]])\n",
        "## use of -1 to reshaping a tensor\n",
        "y = x.view(6, -1)\n",
        "print(y)"
      ],
      "metadata": {
        "id": "qsUnTjlC12-n",
        "colab": {
          "base_uri": "https://localhost:8080/"
        },
        "outputId": "4984cdbc-cfc2-4401-9fc1-80d06a27d173"
      },
      "execution_count": null,
      "outputs": [
        {
          "output_type": "stream",
          "name": "stdout",
          "text": [
            "tensor([[1],\n",
            "        [2],\n",
            "        [3],\n",
            "        [4],\n",
            "        [5],\n",
            "        [6]])\n"
          ]
        }
      ]
    },
    {
      "cell_type": "code",
      "source": [
        "# create two tensors\n",
        "x = torch.ones([3, 2])\n",
        "y = torch.ones([3, 2])\n",
        "\n",
        "# adding two tensors\n",
        "z1_add = x + y #method 1\n",
        "z2_add = torch.add(x, y) #method 2\n",
        "print(z1_add)\n",
        "print(z2_add)\n",
        "\n",
        "# substracting two tensors\n",
        "z1_sub = x - y #method 1\n",
        "z2_sub = torch.sub(x,y) #method 2\n",
        "print(z1_sub)\n",
        "print(z2_sub)"
      ],
      "metadata": {
        "id": "kPhWpoWb2EFs",
        "colab": {
          "base_uri": "https://localhost:8080/"
        },
        "outputId": "e7534b9f-3b2f-4934-ef4c-5a479c1f16eb"
      },
      "execution_count": null,
      "outputs": [
        {
          "output_type": "stream",
          "name": "stdout",
          "text": [
            "tensor([[2., 2.],\n",
            "        [2., 2.],\n",
            "        [2., 2.]])\n",
            "tensor([[2., 2.],\n",
            "        [2., 2.],\n",
            "        [2., 2.]])\n",
            "tensor([[0., 0.],\n",
            "        [0., 0.],\n",
            "        [0., 0.]])\n",
            "tensor([[0., 0.],\n",
            "        [0., 0.],\n",
            "        [0., 0.]])\n"
          ]
        }
      ]
    },
    {
      "cell_type": "code",
      "source": [
        "## create two tensors\n",
        "x = torch.ones([3, 2])\n",
        "y = torch.ones([3, 2])\n",
        "\n",
        "## multiplying two tensors\n",
        "z1_mul = x * y # method 1\n",
        "z2_mul = torch.mul(x, y) # method 2\n",
        "\n",
        "print(z1_mul)\n",
        "print(z2_mul)"
      ],
      "metadata": {
        "id": "X5YtPXmr2IVm",
        "colab": {
          "base_uri": "https://localhost:8080/"
        },
        "outputId": "2a1ef3f7-3d7c-4797-f759-895cd9eccf5b"
      },
      "execution_count": null,
      "outputs": [
        {
          "output_type": "stream",
          "name": "stdout",
          "text": [
            "tensor([[1., 1.],\n",
            "        [1., 1.],\n",
            "        [1., 1.]])\n",
            "tensor([[1., 1.],\n",
            "        [1., 1.],\n",
            "        [1., 1.]])\n"
          ]
        }
      ]
    },
    {
      "cell_type": "code",
      "source": [
        "## create two tensors\n",
        "x = torch.ones(3, 2)\n",
        "y = torch.ones(3, 2)\n",
        "print(y)\n",
        "## inplace operation\n",
        "z = y.add_(x)\n",
        "print(y)\n",
        "print(z)"
      ],
      "metadata": {
        "id": "7-VsdNZn2x4u",
        "colab": {
          "base_uri": "https://localhost:8080/"
        },
        "outputId": "fa73fc44-643b-44ea-da05-73966158b7c2"
      },
      "execution_count": null,
      "outputs": [
        {
          "output_type": "stream",
          "name": "stdout",
          "text": [
            "tensor([[1., 1.],\n",
            "        [1., 1.],\n",
            "        [1., 1.]])\n",
            "tensor([[2., 2.],\n",
            "        [2., 2.],\n",
            "        [2., 2.]])\n",
            "tensor([[2., 2.],\n",
            "        [2., 2.],\n",
            "        [2., 2.]])\n"
          ]
        }
      ]
    },
    {
      "cell_type": "code",
      "source": [
        "\n",
        "## check the number of CUDA supported GPU that connected to the machine\n",
        "print(torch.cuda.device_count())\n",
        "## get the name of the GPU Card\n",
        "print(torch.cuda.get_device_name(0))\n"
      ],
      "metadata": {
        "id": "BS6yiUpU3gOo",
        "colab": {
          "base_uri": "https://localhost:8080/"
        },
        "outputId": "8c8af161-18f5-4511-d974-4b33117833b1"
      },
      "execution_count": null,
      "outputs": [
        {
          "output_type": "stream",
          "name": "stdout",
          "text": [
            "1\n",
            "Tesla T4\n"
          ]
        }
      ]
    },
    {
      "cell_type": "code",
      "source": [
        "import time\n",
        "## create numpy tensor with size of (10000,10000)\n",
        "a = np.random.rand(10000,10000)\n",
        "a_tensor = torch.from_numpy(a).cpu()\n",
        "start1 = time.time()\n",
        "a_tensor_matmul = torch.matmul(a_tensor.T,a_tensor)\n",
        "print(\"CPU Seconds passed:{}\".format(time.time()-start1))"
      ],
      "metadata": {
        "colab": {
          "base_uri": "https://localhost:8080/"
        },
        "id": "nUpSWPsYEVHK",
        "outputId": "fbe39744-27d4-4566-b86f-c751e38849af"
      },
      "execution_count": null,
      "outputs": [
        {
          "output_type": "stream",
          "name": "stdout",
          "text": [
            "CPU Seconds passed:54.449613094329834\n"
          ]
        }
      ]
    },
    {
      "cell_type": "code",
      "source": [
        "## performing operations on GPU\n",
        "## transfer data into cuda\n",
        "a_tensor_gpu = a_tensor.cuda()\n",
        "start2 = time.time()\n",
        "a_tensor_gpu_matmul = torch.matmul(a_tensor_gpu.T,a_tensor_gpu)\n",
        "print(\"GPU Seconds passed:{}\".format(time.time()-start2))"
      ],
      "metadata": {
        "colab": {
          "base_uri": "https://localhost:8080/"
        },
        "id": "ypiNbRn7BLum",
        "outputId": "429f2eb7-88b0-4619-9647-37d93c4d18e9"
      },
      "execution_count": null,
      "outputs": [
        {
          "output_type": "stream",
          "name": "stdout",
          "text": [
            "GPU Seconds passed:0.12426137924194336\n"
          ]
        }
      ]
    },
    {
      "cell_type": "code",
      "source": [
        "import torch\n",
        "from torch.utils.data import Dataset, DataLoader\n",
        "import matplotlib.pyplot as plt\n",
        "import torch.nn as nn\n",
        "\n",
        "#define a dataset class for training data\n",
        "class train_data(Dataset):\n",
        "   def __init__(self, input, target):\n",
        "      # Store input data and target prices\n",
        "      self.input = input\n",
        "      self.target = target\n",
        "\n",
        "   #return a specific data point based on index\n",
        "   def __getitem__(self, index):\n",
        "      return self.input[index], self.target[index]\n",
        "\n",
        "   #return the total number of data points\n",
        "   def __len__(self):\n",
        "      return len(self.input)\n",
        "\n",
        "#refine a dataset class for testing data\n",
        "class test_data(Dataset):\n",
        "   def __init__(self, input, target):\n",
        "        #ctore input data and target prices\n",
        "        self.input = input\n",
        "        self.target = target\n",
        "\n",
        "   #return a specific data point based on index\n",
        "   def __getitem__(self, index):\n",
        "      return self.input[index], self.target[index]\n",
        "\n",
        "   #return the total number of data points\n",
        "   def __len__(self):\n",
        "      return len(self.input)\n",
        "\n",
        "#create training inputs (fish, chips, ketchup) and target prices\n",
        "train_inputs = torch.tensor([[5, 2, 4], [3, 3, 3], [0, 5, 1], [2, 1, 2]], dtype=torch.float32)\n",
        "train_targets = torch.tensor([1250, 900, 350, 550], dtype=torch.float32)\n",
        "\n",
        "#create testing inputs and target prices\n",
        "test_inputs = torch.tensor([[6, 1, 3], [2, 2, 1], [4, 5, 0]], dtype=torch.float32)\n",
        "test_targets = torch.tensor([1250, 500, 850], dtype=torch.float32)\n",
        "\n",
        "#initialize the datasets for training and testing\n",
        "train_dataset = train_data(train_inputs, train_targets)\n",
        "test_dataset = test_data(test_inputs, test_targets)\n",
        "\n",
        "#create DataLoaders to load the datasets in batches\n",
        "train_loader = DataLoader(train_dataset, batch_size=1, shuffle=True)\n",
        "test_loader = DataLoader(test_dataset, batch_size=1, shuffle=False)\n",
        "\n",
        "#implement the delta rule for updating the model weights\n",
        "def delta_rule(model, train_loader, learning_rates, clip_value=1.0):\n",
        "    losses = []\n",
        "    weight_history = []  #to store copies of weights at each iteration\n",
        "\n",
        "    for i, (inputs, targets) in enumerate(train_loader):\n",
        "        predicted_price = model(inputs)  #make a prediction\n",
        "        error = targets.view(-1, 1) - predicted_price  #calculate the error\n",
        "        loss = torch.mean(error ** 2)  # calculate the loss\n",
        "        loss.backward()  #compute gradients\n",
        "\n",
        "        with torch.no_grad():\n",
        "            for param in model.parameters():\n",
        "                param -= learning_rates[i % len(learning_rates)] * param.grad  #manually update weights\n",
        "\n",
        "        model.zero_grad()  #reset gradients\n",
        "\n",
        "        losses.append(loss.item())  #save the loss\n",
        "\n",
        "        #save a copy of the current weights\n",
        "        weight_history.append({name: param.clone().detach().numpy() for name, param in model.named_parameters()})\n",
        "\n",
        "        print(f\"Iteration {i+1}: Weights = {model.state_dict()}, Loss = {loss.item()}\")\n",
        "\n",
        "    return losses, weight_history\n",
        "\n",
        "#define a linear model with 3 inputs\n",
        "model = nn.Linear(3, 1)\n",
        "\n",
        "#implement the batch delta rule for updating weights after each batch\n",
        "def batch_delta_rule(model, train_loader, epochs, clip_value=1.0):\n",
        "    learning_rate = 1 / 100\n",
        "    losses = []\n",
        "    weight_history = []  #to store copies of weights at each epoch\n",
        "\n",
        "    for epoch in range(epochs):\n",
        "        epoch_loss = 0  #accumulate loss for the epoch\n",
        "        for batch_idx, (inputs, targets) in enumerate(train_loader):\n",
        "            model.zero_grad()  #reset gradients\n",
        "\n",
        "            predicted_prices = model(inputs)  #make a prediction\n",
        "            errors = targets.view(-1, 1) - predicted_prices  #calculate the error\n",
        "            loss = torch.mean(errors ** 2)  #calculate the loss\n",
        "\n",
        "            loss.backward()  #compute gradients\n",
        "\n",
        "            torch.nn.utils.clip_grad_norm_(model.parameters(), clip_value)  # Clip gradients\n",
        "\n",
        "            with torch.no_grad():\n",
        "                for param in model.parameters():\n",
        "                    param -= learning_rate * param.grad  # Manually update weights\n",
        "\n",
        "            epoch_loss += loss.item()  # Add loss for this batch\n",
        "\n",
        "        losses.append(epoch_loss / len(train_loader))  # Average loss for the epoch\n",
        "\n",
        "        #save a copy of the current weights\n",
        "        weight_history.append({name: param.clone().detach().numpy() for name, param in model.named_parameters()})\n",
        "\n",
        "        print(f\"Epoch {epoch+1}/{epochs}: Weights = {model.state_dict()}, Loss = {epoch_loss / len(train_loader)}\")\n",
        "\n",
        "    return losses, weight_history\n",
        "\n",
        "#define the learning rates for delta rule\n",
        "learning_rates = [1/70, 1/12, 1/27, 2/20]\n",
        "\n",
        "#train the model using delta rule and plot the losses\n",
        "losses_delta, weight_history_delta = delta_rule(model, DataLoader(train_dataset, batch_size=1, shuffle=True), learning_rates)\n",
        "plt.plot(losses_delta, marker='o')\n",
        "plt.xlabel('Iteration')\n",
        "plt.ylabel('Loss')\n",
        "plt.title('Loss over Iterations (Delta Rule)')\n",
        "plt.show()\n",
        "\n",
        "#print out the weights history after Delta Rule training\n",
        "print(\"\\nFinal weights after Delta Rule training:\")\n",
        "for i, weights in enumerate(weight_history_delta):\n",
        "    print(f\"Iteration {i+1}: {weights}\")\n",
        "\n",
        "#train the model using batch delta rule and plot the losses\n",
        "losses_batch, weight_history_batch = batch_delta_rule(model, train_loader, epochs=10)\n",
        "plt.plot(losses_batch, marker='o')\n",
        "plt.xlabel('Epoch')\n",
        "plt.ylabel('Average Loss')\n",
        "plt.title('Loss over Epochs (Batch Delta Rule)')\n",
        "plt.show()\n",
        "\n",
        "#print out the weights history after Batch Delta Rule training\n",
        "print(\"\\nFinal weights after Batch Delta Rule training:\")\n",
        "for epoch, weights in enumerate(weight_history_batch):\n",
        "    print(f\"Epoch {epoch+1}: {weights}\")\n",
        "\n",
        "#function to evaluate the model on the training data\n",
        "def evaluateModel(model, data_loader):\n",
        "    print(\"\\nEvaluating the model:\")\n",
        "    total_loss = 0\n",
        "    with torch.no_grad():\n",
        "        for i, (inputs, target) in enumerate(data_loader):\n",
        "            predicted_price = model(inputs)  #make a prediction\n",
        "            error = target.view(-1, 1) - predicted_price  #calculate the error\n",
        "            loss = torch.mean(error ** 2)  #calculate the loss\n",
        "            total_loss += loss.item()  #add to the total loss\n",
        "\n",
        "            print(f\"Sample {i+1}: Predicted = {predicted_price.view(-1).tolist()}, Target = {target.tolist()}, Loss = {loss.item()}\")\n",
        "\n",
        "    print(f\"\\nTotal Loss: {total_loss}\")\n",
        "\n",
        "# evaluate the model on the training dataset\n",
        "print(\"\\nEvaluating on Training Data:\")\n",
        "evaluateModel(model, train_loader)\n",
        "\n",
        "# evaluate the model on the test dataset\n",
        "print(\"\\nEvaluating on Test Data:\")\n",
        "evaluateModel(model, test_loader)"
      ],
      "metadata": {
        "id": "JjaYC4frTJRC",
        "colab": {
          "base_uri": "https://localhost:8080/",
          "height": 1000
        },
        "outputId": "ff7cb76d-25d6-4f7e-a30b-18d0d7ec54f4"
      },
      "execution_count": 1,
      "outputs": [
        {
          "output_type": "stream",
          "name": "stdout",
          "text": [
            "Iteration 1: Weights = OrderedDict([('weight', tensor([[77.6967, 76.8685, 76.7946]])), ('bias', tensor([25.5173]))]), Loss = 813632.75\n",
            "Iteration 2: Weights = OrderedDict([('weight', tensor([[390.2665, 201.8964, 326.8504]])), ('bias', tensor([88.0312]))]), Loss = 140687.765625\n",
            "Iteration 3: Weights = OrderedDict([('weight', tensor([[216.3167, 114.9215, 152.9006]])), ('bias', tensor([1.0563]))]), Loss = 1378655.0\n",
            "Iteration 4: Weights = OrderedDict([('weight', tensor([[ 216.3167, -263.6429,   77.1877]])), ('bias', tensor([-74.6566]))]), Loss = 143311.046875\n"
          ]
        },
        {
          "output_type": "display_data",
          "data": {
            "text/plain": [
              "<Figure size 640x480 with 1 Axes>"
            ],
            "image/png": "[encoded data removed]"
          },
          "metadata": {}
        },
        {
          "output_type": "stream",
          "name": "stdout",
          "text": [
            "\n",
            "Final weights after Delta Rule training:\n",
            "Iteration 1: {'weight': array([[77.6967  , 76.868546, 76.79461 ]], dtype=float32), 'bias': array([25.51727], dtype=float32)}\n",
            "Iteration 2: {'weight': array([[390.26648, 201.89644, 326.8504 ]], dtype=float32), 'bias': array([88.03122], dtype=float32)}\n",
            "Iteration 3: {'weight': array([[216.31665 , 114.921524, 152.90057 ]], dtype=float32), 'bias': array([1.0563049], dtype=float32)}\n",
            "Iteration 4: {'weight': array([[ 216.31665, -263.64294,   77.18768]], dtype=float32), 'bias': array([-74.656586], dtype=float32)}\n",
            "Epoch 1/10: Weights = OrderedDict([('weight', tensor([[ 216.3360, -263.6215,   77.2075]])), ('bias', tensor([-74.6481]))]), Loss = 965350.845703125\n",
            "Epoch 2/10: Weights = OrderedDict([('weight', tensor([[ 216.3554, -263.6001,   77.2273]])), ('bias', tensor([-74.6397]))]), Loss = 965085.1484375\n",
            "Epoch 3/10: Weights = OrderedDict([('weight', tensor([[ 216.3747, -263.5787,   77.2471]])), ('bias', tensor([-74.6312]))]), Loss = 964793.23828125\n",
            "Epoch 4/10: Weights = OrderedDict([('weight', tensor([[ 216.3941, -263.5573,   77.2669]])), ('bias', tensor([-74.6228]))]), Loss = 964558.0078125\n",
            "Epoch 5/10: Weights = OrderedDict([('weight', tensor([[ 216.4135, -263.5358,   77.2868]])), ('bias', tensor([-74.6144]))]), Loss = 964272.53515625\n",
            "Epoch 6/10: Weights = OrderedDict([('weight', tensor([[ 216.4328, -263.5144,   77.3066]])), ('bias', tensor([-74.6059]))]), Loss = 964025.81640625\n",
            "Epoch 7/10: Weights = OrderedDict([('weight', tensor([[ 216.4522, -263.4930,   77.3264]])), ('bias', tensor([-74.5975]))]), Loss = 963761.70703125\n",
            "Epoch 8/10: Weights = OrderedDict([('weight', tensor([[ 216.4716, -263.4716,   77.3462]])), ('bias', tensor([-74.5890]))]), Loss = 963454.359375\n",
            "Epoch 9/10: Weights = OrderedDict([('weight', tensor([[ 216.4909, -263.4501,   77.3660]])), ('bias', tensor([-74.5806]))]), Loss = 963218.53125\n",
            "Epoch 10/10: Weights = OrderedDict([('weight', tensor([[ 216.5103, -263.4287,   77.3858]])), ('bias', tensor([-74.5721]))]), Loss = 962954.61328125\n"
          ]
        },
        {
          "output_type": "display_data",
          "data": {
            "text/plain": [
              "<Figure size 640x480 with 1 Axes>"
            ],
            "image/png": "[encoded data removed]"
          },
          "metadata": {}
        },
        {
          "output_type": "stream",
          "name": "stdout",
          "text": [
            "\n",
            "Final weights after Batch Delta Rule training:\n",
            "Epoch 1: {'weight': array([[ 216.33601, -263.62152,   77.2075 ]], dtype=float32), 'bias': array([-74.64814], dtype=float32)}\n",
            "Epoch 2: {'weight': array([[ 216.35538, -263.6001 ,   77.22731]], dtype=float32), 'bias': array([-74.639694], dtype=float32)}\n",
            "Epoch 3: {'weight': array([[ 216.37474, -263.57867,   77.24712]], dtype=float32), 'bias': array([-74.63125], dtype=float32)}\n",
            "Epoch 4: {'weight': array([[ 216.3941 , -263.55725,   77.26694]], dtype=float32), 'bias': array([-74.6228], dtype=float32)}\n",
            "Epoch 5: {'weight': array([[ 216.41347, -263.53583,   77.28675]], dtype=float32), 'bias': array([-74.61436], dtype=float32)}\n",
            "Epoch 6: {'weight': array([[ 216.43283 , -263.5144  ,   77.306564]], dtype=float32), 'bias': array([-74.60591], dtype=float32)}\n",
            "Epoch 7: {'weight': array([[ 216.4522 , -263.49298,   77.32638]], dtype=float32), 'bias': array([-74.597466], dtype=float32)}\n",
            "Epoch 8: {'weight': array([[ 216.47156, -263.47156,   77.34619]], dtype=float32), 'bias': array([-74.58902], dtype=float32)}\n",
            "Epoch 9: {'weight': array([[ 216.49092 , -263.45013 ,   77.366005]], dtype=float32), 'bias': array([-74.580574], dtype=float32)}\n",
            "Epoch 10: {'weight': array([[ 216.51028, -263.4287 ,   77.38582]], dtype=float32), 'bias': array([-74.57213], dtype=float32)}\n",
            "\n",
            "Evaluating on Training Data:\n",
            "\n",
            "Evaluating the model:\n",
            "Sample 1: Predicted = [249.79136657714844], Target = [550.0], Loss = 90125.2109375\n",
            "Sample 2: Predicted = [16.830078125], Target = [900.0], Loss = 779989.125\n",
            "Sample 3: Predicted = [-1314.329833984375], Target = [350.0], Loss = 2769993.75\n",
            "Sample 4: Predicted = [790.6651000976562], Target = [1250.0], Loss = 210988.546875\n",
            "\n",
            "Total Loss: 3851096.6328125\n",
            "\n",
            "Evaluating on Test Data:\n",
            "\n",
            "Evaluating the model:\n",
            "Sample 1: Predicted = [1193.2183837890625], Target = [1250.0], Loss = 3224.15185546875\n",
            "Sample 2: Predicted = [-91.02316284179688], Target = [500.0], Loss = 349308.40625\n",
            "Sample 3: Predicted = [-525.674560546875], Target = [850.0], Loss = 1892480.5\n",
            "\n",
            "Total Loss: 2245013.0581054688\n"
          ]
        }
      ]
    },
    {
      "cell_type": "code",
      "source": [
        "## create a tensor with requires_grad = True\n",
        "## this will track all the operations performing on that tensor\n",
        "x = torch.ones([3, 3], requires_grad = True)\n",
        "print(x)\n",
        "\n",
        "## perform a tensor addition and check the result\n",
        "y = x + 1\n",
        "print(y)\n",
        "\n",
        "## perform a tensor multiplication and check the result\n",
        "z = y * y\n",
        "print(z)\n",
        "\n",
        "## adding all the values in z and check the result\n",
        "t = torch.sum(z)\n",
        "print(t)\n",
        "\n",
        "## perform backpropagation (partial derivate of t with respect to x) and check the result\n",
        "t.backward()\n",
        "print(x.grad)"
      ],
      "metadata": {
        "id": "2ck5_xOR5DQt",
        "colab": {
          "base_uri": "https://localhost:8080/"
        },
        "outputId": "1d264502-2892-4ed5-ae5d-5fc3172c1dc9"
      },
      "execution_count": null,
      "outputs": [
        {
          "output_type": "stream",
          "name": "stdout",
          "text": [
            "tensor([[1., 1., 1.],\n",
            "        [1., 1., 1.],\n",
            "        [1., 1., 1.]], requires_grad=True)\n",
            "tensor([[2., 2., 2.],\n",
            "        [2., 2., 2.],\n",
            "        [2., 2., 2.]], grad_fn=<AddBackward0>)\n",
            "tensor([[4., 4., 4.],\n",
            "        [4., 4., 4.],\n",
            "        [4., 4., 4.]], grad_fn=<MulBackward0>)\n",
            "tensor(36., grad_fn=<SumBackward0>)\n",
            "tensor([[4., 4., 4.],\n",
            "        [4., 4., 4.],\n",
            "        [4., 4., 4.]])\n"
          ]
        }
      ]
    }
  ]
}